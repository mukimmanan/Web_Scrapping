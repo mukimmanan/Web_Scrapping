{
  "nbformat": 4,
  "nbformat_minor": 0,
  "metadata": {
    "colab": {
      "name": "NewsDataScraping.ipynb",
      "provenance": []
    },
    "kernelspec": {
      "name": "python3",
      "display_name": "Python 3"
    }
  },
  "cells": [
    {
      "cell_type": "code",
      "metadata": {
        "id": "3Y7vJL8nbDma"
      },
      "source": [
        "import urllib.request, time\n",
        "from bs4 import BeautifulSoup\n",
        "import requests\n",
        "import pandas as pd"
      ],
      "execution_count": null,
      "outputs": []
    },
    {
      "cell_type": "code",
      "metadata": {
        "id": "FRJZ2MHawc97"
      },
      "source": [
        "url = 'https://timesofindia.indiatimes.com/city/{0}/{1}?cfmid={2}'"
      ],
      "execution_count": null,
      "outputs": []
    },
    {
      "cell_type": "code",
      "metadata": {
        "id": "y5-_XBESwzO-"
      },
      "source": [
        "num_pages = 5\n",
        "cities = ['mumbai', 'delhi', 'hyderabad', 'lucknow', 'gujarat']\n",
        "full_news = []\n",
        "ids = {'crime_news': 2000000, 'civic_issues': 14000000, 'politics': 11000000, 'school': 5000000}"
      ],
      "execution_count": null,
      "outputs": []
    },
    {
      "cell_type": "code",
      "metadata": {
        "id": "EoPTVoUIxzlo",
        "colab": {
          "base_uri": "https://localhost:8080/"
        },
        "outputId": "0c986ba1-3420-472c-fc4d-72151bf54513"
      },
      "source": [
        "news = []\n",
        "for city in cities:\n",
        "  for key, value in ids.items():\n",
        "    for page in range(2, num_pages + 1):\n",
        "        print('processing page :', page)\n",
        "        curr_url = url.format(city, page, value)\n",
        "        print(curr_url)\n",
        "        \n",
        "        try:\n",
        "            content = requests.get(curr_url)                        \n",
        "        except Exception as e:                                \n",
        "            continue                                       \n",
        "        time.sleep(0.5)\n",
        "        soup = BeautifulSoup(content.text,'html.parser')\n",
        "        links = soup.find('div', attrs={'id': \"c_articlelist_stories_2\"})\n",
        "        try:\n",
        "          spans_content = links.find_all('span',  attrs={'class': \"w_tle\"})\n",
        "        except:\n",
        "          continue\n",
        "        for link in spans_content:\n",
        "          title = link.text\n",
        "          links = link.find('a')['href']\n",
        "          if (links[0] == '/'):\n",
        "            links = 'https://timesofindia.indiatimes.com{}'.format(links)\n",
        "          else:\n",
        "            continue\n",
        "          # print(title, links)\n",
        "          news.append([title, links, city, key])\n",
        "          # print(news)"
      ],
      "execution_count": null,
      "outputs": [
        {
          "output_type": "stream",
          "text": [
            "processing page : 2\n",
            "https://timesofindia.indiatimes.com/city/mumbai/2?cfmid=2000000\n",
            "processing page : 3\n",
            "https://timesofindia.indiatimes.com/city/mumbai/3?cfmid=2000000\n",
            "processing page : 4\n",
            "https://timesofindia.indiatimes.com/city/mumbai/4?cfmid=2000000\n",
            "processing page : 5\n",
            "https://timesofindia.indiatimes.com/city/mumbai/5?cfmid=2000000\n",
            "processing page : 2\n",
            "https://timesofindia.indiatimes.com/city/mumbai/2?cfmid=14000000\n",
            "processing page : 3\n",
            "https://timesofindia.indiatimes.com/city/mumbai/3?cfmid=14000000\n",
            "processing page : 4\n",
            "https://timesofindia.indiatimes.com/city/mumbai/4?cfmid=14000000\n",
            "processing page : 5\n",
            "https://timesofindia.indiatimes.com/city/mumbai/5?cfmid=14000000\n",
            "processing page : 2\n",
            "https://timesofindia.indiatimes.com/city/mumbai/2?cfmid=11000000\n",
            "processing page : 3\n",
            "https://timesofindia.indiatimes.com/city/mumbai/3?cfmid=11000000\n",
            "processing page : 4\n",
            "https://timesofindia.indiatimes.com/city/mumbai/4?cfmid=11000000\n",
            "processing page : 5\n",
            "https://timesofindia.indiatimes.com/city/mumbai/5?cfmid=11000000\n",
            "processing page : 2\n",
            "https://timesofindia.indiatimes.com/city/mumbai/2?cfmid=5000000\n",
            "processing page : 3\n",
            "https://timesofindia.indiatimes.com/city/mumbai/3?cfmid=5000000\n",
            "processing page : 4\n",
            "https://timesofindia.indiatimes.com/city/mumbai/4?cfmid=5000000\n",
            "processing page : 5\n",
            "https://timesofindia.indiatimes.com/city/mumbai/5?cfmid=5000000\n",
            "processing page : 2\n",
            "https://timesofindia.indiatimes.com/city/delhi/2?cfmid=2000000\n",
            "processing page : 3\n",
            "https://timesofindia.indiatimes.com/city/delhi/3?cfmid=2000000\n",
            "processing page : 4\n",
            "https://timesofindia.indiatimes.com/city/delhi/4?cfmid=2000000\n",
            "processing page : 5\n",
            "https://timesofindia.indiatimes.com/city/delhi/5?cfmid=2000000\n",
            "processing page : 2\n",
            "https://timesofindia.indiatimes.com/city/delhi/2?cfmid=14000000\n",
            "processing page : 3\n",
            "https://timesofindia.indiatimes.com/city/delhi/3?cfmid=14000000\n",
            "processing page : 4\n",
            "https://timesofindia.indiatimes.com/city/delhi/4?cfmid=14000000\n",
            "processing page : 5\n",
            "https://timesofindia.indiatimes.com/city/delhi/5?cfmid=14000000\n",
            "processing page : 2\n",
            "https://timesofindia.indiatimes.com/city/delhi/2?cfmid=11000000\n",
            "processing page : 3\n",
            "https://timesofindia.indiatimes.com/city/delhi/3?cfmid=11000000\n",
            "processing page : 4\n",
            "https://timesofindia.indiatimes.com/city/delhi/4?cfmid=11000000\n",
            "processing page : 5\n",
            "https://timesofindia.indiatimes.com/city/delhi/5?cfmid=11000000\n",
            "processing page : 2\n",
            "https://timesofindia.indiatimes.com/city/delhi/2?cfmid=5000000\n",
            "processing page : 3\n",
            "https://timesofindia.indiatimes.com/city/delhi/3?cfmid=5000000\n",
            "processing page : 4\n",
            "https://timesofindia.indiatimes.com/city/delhi/4?cfmid=5000000\n",
            "processing page : 5\n",
            "https://timesofindia.indiatimes.com/city/delhi/5?cfmid=5000000\n",
            "processing page : 2\n",
            "https://timesofindia.indiatimes.com/city/hyderabad/2?cfmid=2000000\n",
            "processing page : 3\n",
            "https://timesofindia.indiatimes.com/city/hyderabad/3?cfmid=2000000\n",
            "processing page : 4\n",
            "https://timesofindia.indiatimes.com/city/hyderabad/4?cfmid=2000000\n",
            "processing page : 5\n",
            "https://timesofindia.indiatimes.com/city/hyderabad/5?cfmid=2000000\n",
            "processing page : 2\n",
            "https://timesofindia.indiatimes.com/city/hyderabad/2?cfmid=14000000\n",
            "processing page : 3\n",
            "https://timesofindia.indiatimes.com/city/hyderabad/3?cfmid=14000000\n",
            "processing page : 4\n",
            "https://timesofindia.indiatimes.com/city/hyderabad/4?cfmid=14000000\n",
            "processing page : 5\n",
            "https://timesofindia.indiatimes.com/city/hyderabad/5?cfmid=14000000\n",
            "processing page : 2\n",
            "https://timesofindia.indiatimes.com/city/hyderabad/2?cfmid=11000000\n",
            "processing page : 3\n",
            "https://timesofindia.indiatimes.com/city/hyderabad/3?cfmid=11000000\n",
            "processing page : 4\n",
            "https://timesofindia.indiatimes.com/city/hyderabad/4?cfmid=11000000\n",
            "processing page : 5\n",
            "https://timesofindia.indiatimes.com/city/hyderabad/5?cfmid=11000000\n",
            "processing page : 2\n",
            "https://timesofindia.indiatimes.com/city/hyderabad/2?cfmid=5000000\n",
            "processing page : 3\n",
            "https://timesofindia.indiatimes.com/city/hyderabad/3?cfmid=5000000\n",
            "processing page : 4\n",
            "https://timesofindia.indiatimes.com/city/hyderabad/4?cfmid=5000000\n",
            "processing page : 5\n",
            "https://timesofindia.indiatimes.com/city/hyderabad/5?cfmid=5000000\n",
            "processing page : 2\n",
            "https://timesofindia.indiatimes.com/city/lucknow/2?cfmid=2000000\n",
            "processing page : 3\n",
            "https://timesofindia.indiatimes.com/city/lucknow/3?cfmid=2000000\n",
            "processing page : 4\n",
            "https://timesofindia.indiatimes.com/city/lucknow/4?cfmid=2000000\n",
            "processing page : 5\n",
            "https://timesofindia.indiatimes.com/city/lucknow/5?cfmid=2000000\n",
            "processing page : 2\n",
            "https://timesofindia.indiatimes.com/city/lucknow/2?cfmid=14000000\n",
            "processing page : 3\n",
            "https://timesofindia.indiatimes.com/city/lucknow/3?cfmid=14000000\n",
            "processing page : 4\n",
            "https://timesofindia.indiatimes.com/city/lucknow/4?cfmid=14000000\n",
            "processing page : 5\n",
            "https://timesofindia.indiatimes.com/city/lucknow/5?cfmid=14000000\n",
            "processing page : 2\n",
            "https://timesofindia.indiatimes.com/city/lucknow/2?cfmid=11000000\n",
            "processing page : 3\n",
            "https://timesofindia.indiatimes.com/city/lucknow/3?cfmid=11000000\n",
            "processing page : 4\n",
            "https://timesofindia.indiatimes.com/city/lucknow/4?cfmid=11000000\n",
            "processing page : 5\n",
            "https://timesofindia.indiatimes.com/city/lucknow/5?cfmid=11000000\n",
            "processing page : 2\n",
            "https://timesofindia.indiatimes.com/city/lucknow/2?cfmid=5000000\n",
            "processing page : 3\n",
            "https://timesofindia.indiatimes.com/city/lucknow/3?cfmid=5000000\n",
            "processing page : 4\n",
            "https://timesofindia.indiatimes.com/city/lucknow/4?cfmid=5000000\n",
            "processing page : 5\n",
            "https://timesofindia.indiatimes.com/city/lucknow/5?cfmid=5000000\n",
            "processing page : 2\n",
            "https://timesofindia.indiatimes.com/city/gujarat/2?cfmid=2000000\n",
            "processing page : 3\n",
            "https://timesofindia.indiatimes.com/city/gujarat/3?cfmid=2000000\n",
            "processing page : 4\n",
            "https://timesofindia.indiatimes.com/city/gujarat/4?cfmid=2000000\n",
            "processing page : 5\n",
            "https://timesofindia.indiatimes.com/city/gujarat/5?cfmid=2000000\n",
            "processing page : 2\n",
            "https://timesofindia.indiatimes.com/city/gujarat/2?cfmid=14000000\n",
            "processing page : 3\n",
            "https://timesofindia.indiatimes.com/city/gujarat/3?cfmid=14000000\n",
            "processing page : 4\n",
            "https://timesofindia.indiatimes.com/city/gujarat/4?cfmid=14000000\n",
            "processing page : 5\n",
            "https://timesofindia.indiatimes.com/city/gujarat/5?cfmid=14000000\n",
            "processing page : 2\n",
            "https://timesofindia.indiatimes.com/city/gujarat/2?cfmid=11000000\n",
            "processing page : 3\n",
            "https://timesofindia.indiatimes.com/city/gujarat/3?cfmid=11000000\n",
            "processing page : 4\n",
            "https://timesofindia.indiatimes.com/city/gujarat/4?cfmid=11000000\n",
            "processing page : 5\n",
            "https://timesofindia.indiatimes.com/city/gujarat/5?cfmid=11000000\n",
            "processing page : 2\n",
            "https://timesofindia.indiatimes.com/city/gujarat/2?cfmid=5000000\n",
            "processing page : 3\n",
            "https://timesofindia.indiatimes.com/city/gujarat/3?cfmid=5000000\n",
            "processing page : 4\n",
            "https://timesofindia.indiatimes.com/city/gujarat/4?cfmid=5000000\n",
            "processing page : 5\n",
            "https://timesofindia.indiatimes.com/city/gujarat/5?cfmid=5000000\n"
          ],
          "name": "stdout"
        }
      ]
    },
    {
      "cell_type": "code",
      "metadata": {
        "id": "CYuKJd1A8H9V",
        "colab": {
          "base_uri": "https://localhost:8080/"
        },
        "outputId": "b1c7b073-5884-45d0-f41f-aaaadae0687a"
      },
      "source": [
        "print(len(news))"
      ],
      "execution_count": null,
      "outputs": [
        {
          "output_type": "stream",
          "text": [
            "2942\n"
          ],
          "name": "stdout"
        }
      ]
    },
    {
      "cell_type": "code",
      "metadata": {
        "id": "A3aUCa0nAgvN"
      },
      "source": [
        "final_data = []\n",
        "for i in range(len(news) // 2):\n",
        "  title, link, city, topic = news[i]\n",
        "  try:\n",
        "      content = requests.get(link)                        \n",
        "  except Exception as e:                                \n",
        "      continue   \n",
        "  new_soup = BeautifulSoup(content.text,'html.parser')\n",
        "  data = new_soup.find('div', attrs={'class': \"byline\"})\n",
        "  try:\n",
        "    data = data.text.split(\"/\")\n",
        "  except: \n",
        "    continue\n",
        "  # print(data)\n",
        "  date = ''\n",
        "  try:\n",
        "    date = data[-1].replace('Updated:', \"\").strip(\"\").strip()\n",
        "  except:\n",
        "    date = data[-1].strip(\"\").strip()\n",
        "  # print(date)\n",
        "  author = data[0].strip()\n",
        "  try:\n",
        "    data = new_soup.find('section', attrs={'class': \"undefined\"}).next_siblings\n",
        "  except:\n",
        "    continue\n",
        "  content = ''\n",
        "  for i in data:\n",
        "    content = i.text.split(\":\")[-1]\n",
        "    # print(topic)\n",
        "    break\n",
        "  if len(title) == 0 or len(link) == 0 or len(city) == 0 or len(date) == 0 or len(content) == 0:\n",
        "    continue\n",
        "  final_data.append([title, link, city, date, author, content, topic])\n"
      ],
      "execution_count": null,
      "outputs": []
    },
    {
      "cell_type": "code",
      "metadata": {
        "id": "nvcJegvZKTmR",
        "colab": {
          "base_uri": "https://localhost:8080/"
        },
        "outputId": "c4443da1-89c7-4ab5-fc68-13e2bcec47c8"
      },
      "source": [
        "print(final_data[2])"
      ],
      "execution_count": null,
      "outputs": [
        {
          "output_type": "stream",
          "text": [
            "[\"\\nScooterist who was groped seeks Mumbai police, minister's help\\n\", 'https://timesofindia.indiatimes.com/city/mumbai/scooterist-who-was-groped-seeks-mumbai-police-ministers-help/articleshow/78420726.cms', 'mumbai', 'Oct 1, 2020, 11:02 IST', 'TNN', \" A student on a scooter with her sister was groped at a busy street in Kurla by a man riding triple seat on a motorcycle. The sisters chased the bike, confronted the man and later uploaded a video clip of the confrontation on Twitter, tagging minister Aaditya Thackeray and the police commissioner. The student tweeted that one of them was singing while their bike was behind, and while moving past, the man in the middle touched her inappropriately on her back and they sped ahead near Phoenix Marketcity around 6.10pm on September 27.. The sisters chased the men through traffic, yelling at them to halt. Some bystanders gathered and when the women narrated what happened, the men were forced to get off the bike. An officer of Vinoba Bhave police station said they did not receive any complaint but Mumbai Police's twitter handle asked her for details. \", 'crime_news']\n"
          ],
          "name": "stdout"
        }
      ]
    },
    {
      "cell_type": "code",
      "metadata": {
        "id": "C5LrPuFNLWJO"
      },
      "source": [
        "data_news = pd.DataFrame(index=range(len(final_data)), columns=['Title', 'Link', 'City', 'Date', 'Author' ,'Content', 'Topic'])\n",
        "title = []\n",
        "link = []\n",
        "city = []\n",
        "date = []\n",
        "content = []\n",
        "author = []\n",
        "topic = []\n",
        "\n",
        "for i in final_data:\n",
        "  # print(i)\n",
        "  # break\n",
        "  title.append(i[0].strip(\"\\n\"))\n",
        "  link.append(i[1])\n",
        "  city.append(i[2])\n",
        "  date.append(i[3])\n",
        "  author.append(i[4])\n",
        "  content.append(i[5])\n",
        "  topic.append(i[6])\n",
        "\n",
        "data_news['Title'] = title\n",
        "data_news['Link'] = link\n",
        "data_news['City'] = city\n",
        "data_news['Date'] = date\n",
        "data_news['Author'] = author\n",
        "data_news['Content'] = content\n",
        "data_news['Topic'] = topic\n"
      ],
      "execution_count": null,
      "outputs": []
    },
    {
      "cell_type": "code",
      "metadata": {
        "id": "cQwnxyGGNFNt",
        "colab": {
          "base_uri": "https://localhost:8080/"
        },
        "outputId": "36b502be-37b2-4c35-9fd3-00c9439838e8"
      },
      "source": [
        "data_news.to_csv(\"Data_News.csv\")\n",
        "print(data_news.head())"
      ],
      "execution_count": null,
      "outputs": [
        {
          "output_type": "stream",
          "text": [
            "                                               Title  ...       Topic\n",
            "0  Three men rob hotel on Mumbai-Ahmedabad nation...  ...  crime_news\n",
            "1             Man arrested with fake notes in Mumbai  ...  crime_news\n",
            "2  Scooterist who was groped seeks Mumbai police,...  ...  crime_news\n",
            "3  Illegal Remdesivir sale: Pre-arrest bail petit...  ...  crime_news\n",
            "4  Mumbai: Kidnapping accounts for 55% of crimes ...  ...  crime_news\n",
            "\n",
            "[5 rows x 7 columns]\n"
          ],
          "name": "stdout"
        }
      ]
    }
  ]
}
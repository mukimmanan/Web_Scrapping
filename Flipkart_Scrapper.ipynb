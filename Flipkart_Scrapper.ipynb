{
  "nbformat": 4,
  "nbformat_minor": 0,
  "metadata": {
    "colab": {
      "name": "Flipkart Scrapper.ipynb",
      "provenance": [],
      "collapsed_sections": []
    },
    "kernelspec": {
      "name": "python3",
      "display_name": "Python 3"
    }
  },
  "cells": [
    {
      "cell_type": "code",
      "metadata": {
        "id": "AJ-ueykKVaaj"
      },
      "source": [
        "import pandas as pd\r\n",
        "import numpy as np\r\n",
        "from bs4 import BeautifulSoup\r\n",
        "import requests\r\n",
        "from collections import defaultdict\r\n",
        "import time"
      ],
      "execution_count": null,
      "outputs": []
    },
    {
      "cell_type": "code",
      "metadata": {
        "colab": {
          "base_uri": "https://localhost:8080/"
        },
        "id": "gt2D1f_rWEBF",
        "outputId": "0575d929-4357-4b4d-c60f-9208ce058360"
      },
      "source": [
        "search = input(\"Please Enter The Product To Search For : \")"
      ],
      "execution_count": null,
      "outputs": [
        {
          "output_type": "stream",
          "text": [
            "Please Enter The Product To Search For : Samsung\n"
          ],
          "name": "stdout"
        }
      ]
    },
    {
      "cell_type": "code",
      "metadata": {
        "id": "92jsjL7kWKCe"
      },
      "source": [
        "headers = {'User-Agent':'Chrome/55.0.2883.87'}"
      ],
      "execution_count": null,
      "outputs": []
    },
    {
      "cell_type": "code",
      "metadata": {
        "colab": {
          "base_uri": "https://localhost:8080/"
        },
        "id": "JHlz7TcOWW_S",
        "outputId": "99e7effa-865d-472d-a851-1858b8acca6d"
      },
      "source": [
        "num_pages_to_search = int(input(\"Number of pages to search for the current product: \"))"
      ],
      "execution_count": null,
      "outputs": [
        {
          "output_type": "stream",
          "text": [
            "Number of pages to search for the current product: 2\n"
          ],
          "name": "stdout"
        }
      ]
    },
    {
      "cell_type": "code",
      "metadata": {
        "id": "wZiyaFUFWXpF"
      },
      "source": [
        "def SearchProduct(string, number):\r\n",
        "    url = \"https://www.flipkart.com/search?q={0}&otracker=search&otracker1=search&marketplace=FLIPKART&as-show=off&as=off&page={1}\".format(string, number)\r\n",
        "    page = requests.get(url)\r\n",
        "    return page"
      ],
      "execution_count": null,
      "outputs": []
    },
    {
      "cell_type": "code",
      "metadata": {
        "id": "AZeDZWGnWwmR"
      },
      "source": [
        "beautSoup = []\r\n",
        "for i in range(1, num_pages_to_search + 1):\r\n",
        "  beautSoup.append(BeautifulSoup(SearchProduct(search, i).content))"
      ],
      "execution_count": null,
      "outputs": []
    },
    {
      "cell_type": "code",
      "metadata": {
        "id": "a7-cs3sBXNII"
      },
      "source": [
        "data = defaultdict(list)\r\n",
        "for beaut in beautSoup:\r\n",
        "    div_cards = beaut.find_all('div', attrs={'class': \"_2pi5LC col-12-12\"})\r\n",
        "    for i in div_cards:\r\n",
        "        product_id = None\r\n",
        "        href = None\r\n",
        "        title = None\r\n",
        "        try:\r\n",
        "            href = \"https://www.flipkart.com\" + i.find('a', attrs={'class': \"_1fQZEK\"})['href']\r\n",
        "            product_id = href.split(\"?\")[1].split(\"=\")[1].split(\"&\")[0]\r\n",
        "        except:\r\n",
        "            continue\r\n",
        "        if product_id == None or href == None:\r\n",
        "            continue\r\n",
        "        try:\r\n",
        "            title = i.find('div', attrs={'class': \"_4rR01T\"}).text\r\n",
        "        except:\r\n",
        "            continue\r\n",
        "        data[product_id].extend([href, title])"
      ],
      "execution_count": null,
      "outputs": []
    },
    {
      "cell_type": "code",
      "metadata": {
        "colab": {
          "base_uri": "https://localhost:8080/"
        },
        "id": "Ff6IGg6TZ_Nc",
        "outputId": "47f231c2-6acf-4579-d87d-1f7c3a05aa79"
      },
      "source": [
        "print(data)"
      ],
      "execution_count": null,
      "outputs": [
        {
          "output_type": "stream",
          "text": [
            "defaultdict(<class 'list'>, {'MOBFV5PWHRYTYYJF': ['https://www.flipkart.com/samsung-galaxy-f41-fusion-blue-64-gb/p/itmcdc5e93b44d55?pid=MOBFV5PWHRYTYYJF&lid=LSTMOBFV5PWHRYTYYJFLE0GZO&marketplace=FLIPKART&srno=s_1_1&otracker=search&otracker1=search&fm=organic&iid=178318d8-a764-4a66-b162-fa214488c0b7.MOBFV5PWHRYTYYJF.SEARCH&ssid=ae0serh8v40000001609864264406&qH=3910b1e0ccab19bc', 'Samsung Galaxy F41 (Fusion Blue, 64 GB)'], 'MOBFV5PWUHRY2MZZ': ['https://www.flipkart.com/samsung-galaxy-f41-fusion-black-128-gb/p/itme88b8042fe996?pid=MOBFV5PWUHRY2MZZ&lid=LSTMOBFV5PWUHRY2MZZXXFGKQ&marketplace=FLIPKART&srno=s_1_2&otracker=search&otracker1=search&fm=organic&iid=178318d8-a764-4a66-b162-fa214488c0b7.MOBFV5PWUHRY2MZZ.SEARCH&ssid=ae0serh8v40000001609864264406&qH=3910b1e0ccab19bc', 'Samsung Galaxy F41 (Fusion Black, 128 GB)'], 'MOBFV5PWEX7WJS7R': ['https://www.flipkart.com/samsung-galaxy-f41-fusion-green-128-gb/p/itma41850a2f9e19?pid=MOBFV5PWEX7WJS7R&lid=LSTMOBFV5PWEX7WJS7RBAY0T5&marketplace=FLIPKART&srno=s_1_3&otracker=search&otracker1=search&fm=organic&iid=178318d8-a764-4a66-b162-fa214488c0b7.MOBFV5PWEX7WJS7R.SEARCH&ssid=ae0serh8v40000001609864264406&qH=3910b1e0ccab19bc', 'Samsung Galaxy F41 (Fusion Green, 128 GB)'], 'MOBFV5PWXJRV9WZZ': ['https://www.flipkart.com/samsung-galaxy-f41-fusion-green-64-gb/p/itmce548f0500d55?pid=MOBFV5PWXJRV9WZZ&lid=LSTMOBFV5PWXJRV9WZZSWCHLG&marketplace=FLIPKART&srno=s_1_4&otracker=search&otracker1=search&fm=organic&iid=178318d8-a764-4a66-b162-fa214488c0b7.MOBFV5PWXJRV9WZZ.SEARCH&ssid=ae0serh8v40000001609864264406&qH=3910b1e0ccab19bc', 'Samsung Galaxy F41 (Fusion Green, 64 GB)'], 'MOBFV5PWGEVNPWS2': ['https://www.flipkart.com/samsung-galaxy-f41-fusion-black-64-gb/p/itmde5e6cd41fc4d?pid=MOBFV5PWGEVNPWS2&lid=LSTMOBFV5PWGEVNPWS2VG4KHD&marketplace=FLIPKART&srno=s_1_5&otracker=search&otracker1=search&fm=organic&iid=178318d8-a764-4a66-b162-fa214488c0b7.MOBFV5PWGEVNPWS2.SEARCH&ssid=ae0serh8v40000001609864264406&qH=3910b1e0ccab19bc', 'Samsung Galaxy F41 (Fusion Black, 64 GB)'], 'MOBDA2CFCQ6CFHTZ': ['https://www.flipkart.com/samsung-guru-1200/p/itmeb6w98vmhffjy?pid=MOBDA2CFCQ6CFHTZ&lid=LSTMOBDA2CFCQ6CFHTZBMMUEJ&marketplace=FLIPKART&srno=s_1_6&otracker=search&otracker1=search&fm=organic&iid=178318d8-a764-4a66-b162-fa214488c0b7.MOBDA2CFCQ6CFHTZ.SEARCH&ssid=ae0serh8v40000001609864264406&qH=3910b1e0ccab19bc', 'Samsung Guru 1200'], 'MOBDADMTTV7HXGTF': ['https://www.flipkart.com/samsung-guru-1200/p/itmeb6wxfgbxphcw?pid=MOBDADMTTV7HXGTF&lid=LSTMOBDADMTTV7HXGTFMH5MUB&marketplace=FLIPKART&srno=s_1_7&otracker=search&otracker1=search&fm=organic&iid=178318d8-a764-4a66-b162-fa214488c0b7.MOBDADMTTV7HXGTF.SEARCH&ssid=ae0serh8v40000001609864264406&qH=3910b1e0ccab19bc', 'Samsung Guru 1200'], 'MOBDADKKAEHYYA3G': ['https://www.flipkart.com/samsung-guru-1200/p/itme6gz6jczu5ygz?pid=MOBDADKKAEHYYA3G&lid=LSTMOBDADKKAEHYYA3GHR8NUR&marketplace=FLIPKART&srno=s_1_8&otracker=search&otracker1=search&fm=organic&iid=178318d8-a764-4a66-b162-fa214488c0b7.MOBDADKKAEHYYA3G.SEARCH&ssid=ae0serh8v40000001609864264406&qH=3910b1e0ccab19bc', 'Samsung Guru 1200'], 'MOBDZ9AMJ472Y9MW': ['https://www.flipkart.com/samsung-guru-music-2/p/itmdz9am8xehucbx?pid=MOBDZ9AMJ472Y9MW&lid=LSTMOBDZ9AMJ472Y9MWQW7WES&marketplace=FLIPKART&srno=s_1_9&otracker=search&otracker1=search&fm=organic&iid=178318d8-a764-4a66-b162-fa214488c0b7.MOBDZ9AMJ472Y9MW.SEARCH&ssid=ae0serh8v40000001609864264406&qH=3910b1e0ccab19bc', 'Samsung Guru Music 2'], 'MOBE9TGVE7ZBRAEN': ['https://www.flipkart.com/samsung-guru-music-2/p/itme9tgwmffh64cy?pid=MOBE9TGVE7ZBRAEN&lid=LSTMOBE9TGVE7ZBRAEN6XEAHV&marketplace=FLIPKART&srno=s_1_10&otracker=search&otracker1=search&fm=organic&iid=178318d8-a764-4a66-b162-fa214488c0b7.MOBE9TGVE7ZBRAEN.SEARCH&ssid=ae0serh8v40000001609864264406&qH=3910b1e0ccab19bc', 'Samsung Guru Music 2'], 'MOBE9GYZRG4XPSAB': ['https://www.flipkart.com/samsung-guru-fm-plus/p/itme9gyzeqnyzdux?pid=MOBE9GYZRG4XPSAB&lid=LSTMOBE9GYZRG4XPSABHAS8CR&marketplace=FLIPKART&srno=s_1_11&otracker=search&otracker1=search&fm=organic&iid=178318d8-a764-4a66-b162-fa214488c0b7.MOBE9GYZRG4XPSAB.SEARCH&ssid=ae0serh8v40000001609864264406&qH=3910b1e0ccab19bc', 'Samsung Guru FM Plus'], 'MOBFPNPS6GTGZHE4': ['https://www.flipkart.com/samsung-galaxy-m31-ocean-blue-64-gb/p/itm1268b57512fb8?pid=MOBFPNPS6GTGZHE4&lid=LSTMOBFPNPS6GTGZHE48OUZUH&marketplace=FLIPKART&srno=s_1_12&otracker=search&otracker1=search&fm=organic&iid=178318d8-a764-4a66-b162-fa214488c0b7.MOBFPNPS6GTGZHE4.SEARCH&ssid=ae0serh8v40000001609864264406&qH=3910b1e0ccab19bc', 'Samsung Galaxy M31 (Ocean Blue, 64 GB)'], 'MOBFUAEBGXVGX5US': ['https://www.flipkart.com/samsung-m01-core-black-32-gb/p/itm608a437cc6d05?pid=MOBFUAEBGXVGX5US&lid=LSTMOBFUAEBGXVGX5USXN7Y33&marketplace=FLIPKART&srno=s_1_13&otracker=search&otracker1=search&fm=organic&iid=178318d8-a764-4a66-b162-fa214488c0b7.MOBFUAEBGXVGX5US.SEARCH&ssid=ae0serh8v40000001609864264406&qH=3910b1e0ccab19bc', 'Samsung M01 core (Black, 32 GB)'], 'MOBFWVNZNW8D8BJK': ['https://www.flipkart.com/samsung-m31-prime-ocean-blue-128-gb/p/itm7c94a171225f2?pid=MOBFWVNZNW8D8BJK&lid=LSTMOBFWVNZNW8D8BJKQEEEM9&marketplace=FLIPKART&srno=s_1_14&otracker=search&otracker1=search&fm=organic&iid=178318d8-a764-4a66-b162-fa214488c0b7.MOBFWVNZNW8D8BJK.SEARCH&ssid=ae0serh8v40000001609864264406&qH=3910b1e0ccab19bc', 'Samsung M31 Prime (Ocean Blue, 128 GB)'], 'MOBFUAEBBSAWG6HG': ['https://www.flipkart.com/samsung-m01-core-blue-16-gb/p/itma9e257004962e?pid=MOBFUAEBBSAWG6HG&lid=LSTMOBFUAEBBSAWG6HGSF7N0O&marketplace=FLIPKART&srno=s_1_15&otracker=search&otracker1=search&fm=organic&iid=178318d8-a764-4a66-b162-fa214488c0b7.MOBFUAEBBSAWG6HG.SEARCH&ssid=ae0serh8v40000001609864264406&qH=3910b1e0ccab19bc', 'Samsung M01 core (Blue, 16 GB)'], 'MOBFUYQTCWZVMGEK': ['https://www.flipkart.com/samsung-galaxy-m31-space-black-128-gb/p/itma3f6d335a52e8?pid=MOBFUYQTCWZVMGEK&lid=LSTMOBFUYQTCWZVMGEKL5HPD5&marketplace=FLIPKART&srno=s_1_16&otracker=search&otracker1=search&fm=organic&iid=178318d8-a764-4a66-b162-fa214488c0b7.MOBFUYQTCWZVMGEK.SEARCH&ssid=ae0serh8v40000001609864264406&qH=3910b1e0ccab19bc', 'Samsung Galaxy M31 (Space Black, 128 GB)'], 'MOBEBDGSFTRFYGUP': ['https://www.flipkart.com/samsung-metro-313-dual-sim/p/itmebdgsvgcbg4n6?pid=MOBEBDGSFTRFYGUP&lid=LSTMOBEBDGSFTRFYGUP3W0VZU&marketplace=FLIPKART&srno=s_1_17&otracker=search&otracker1=search&fm=organic&iid=178318d8-a764-4a66-b162-fa214488c0b7.MOBEBDGSFTRFYGUP.SEARCH&ssid=ae0serh8v40000001609864264406&qH=3910b1e0ccab19bc', 'Samsung Metro 313 Dual Sim'], 'MOBFRZZH4HHGU6YT': ['https://www.flipkart.com/samsung-galaxy-m11-black-64-gb/p/itm2b3e5356a5b97?pid=MOBFRZZH4HHGU6YT&lid=LSTMOBFRZZH4HHGU6YT8W2N6K&marketplace=FLIPKART&srno=s_1_18&otracker=search&otracker1=search&fm=organic&iid=178318d8-a764-4a66-b162-fa214488c0b7.MOBFRZZH4HHGU6YT.SEARCH&ssid=ae0serh8v40000001609864264406&qH=3910b1e0ccab19bc', 'Samsung Galaxy M11 (Black, 64 GB)'], 'MOBEU7KPT3FFWJDJ': ['https://www.flipkart.com/samsung-metro-313-dual-sim/p/itmeu7kpzwu74ezu?pid=MOBEU7KPT3FFWJDJ&lid=LSTMOBEU7KPT3FFWJDJIHLUCO&marketplace=FLIPKART&srno=s_1_19&otracker=search&otracker1=search&fm=organic&iid=178318d8-a764-4a66-b162-fa214488c0b7.MOBEU7KPT3FFWJDJ.SEARCH&ssid=ae0serh8v40000001609864264406&qH=3910b1e0ccab19bc', 'Samsung Metro 313 Dual Sim'], 'MOBFSFMJJBTXPTRR': ['https://www.flipkart.com/samsung-galaxy-a21s-blue-64-gb/p/itm2da4d839feeaf?pid=MOBFSFMJJBTXPTRR&lid=LSTMOBFSFMJJBTXPTRR4BE1KX&marketplace=FLIPKART&srno=s_1_20&otracker=search&otracker1=search&fm=organic&iid=178318d8-a764-4a66-b162-fa214488c0b7.MOBFSFMJJBTXPTRR.SEARCH&ssid=ae0serh8v40000001609864264406&qH=3910b1e0ccab19bc', 'Samsung Galaxy A21s (Blue, 64 GB)'], 'MOBFUAEBGZKRFGHX': ['https://www.flipkart.com/samsung-m01-core-black-16-gb/p/itmcc59efe93b40b?pid=MOBFUAEBGZKRFGHX&lid=LSTMOBFUAEBGZKRFGHX4P6IUQ&marketplace=FLIPKART&srno=s_1_21&otracker=search&otracker1=search&fm=organic&iid=178318d8-a764-4a66-b162-fa214488c0b7.MOBFUAEBGZKRFGHX.SEARCH&ssid=ae0serh8v40000001609864264406&qH=3910b1e0ccab19bc', 'Samsung M01 core (Black, 16 GB)', 'https://www.flipkart.com/samsung-m01-core-black-16-gb/p/itmcc59efe93b40b?pid=MOBFUAEBGZKRFGHX&lid=LSTMOBFUAEBGZKRFGHX4P6IUQ&marketplace=FLIPKART&srno=s_2_25&otracker=search&otracker1=search&fm=organic&iid=03925946-2460-4401-8252-fc19238e9538.MOBFUAEBGZKRFGHX.SEARCH&ssid=h12kr46jps0000001609864266321&qH=3910b1e0ccab19bc', 'Samsung M01 core (Black, 16 GB)'], 'MOBE9VZBPVEGZC6X': ['https://www.flipkart.com/samsung-guru-music-2-sm-b310e/p/itme9vzbmphfkdwa?pid=MOBE9VZBPVEGZC6X&lid=LSTMOBE9VZBPVEGZC6XATHIXD&marketplace=FLIPKART&srno=s_1_22&otracker=search&otracker1=search&fm=organic&iid=178318d8-a764-4a66-b162-fa214488c0b7.MOBE9VZBPVEGZC6X.SEARCH&ssid=ae0serh8v40000001609864264406&qH=3910b1e0ccab19bc', 'Samsung Guru Music 2 SM-B310E', 'https://www.flipkart.com/samsung-guru-music-2-sm-b310e/p/itme9vzbmphfkdwa?pid=MOBE9VZBPVEGZC6X&lid=LSTMOBE9VZBPVEGZC6XATHIXD&marketplace=FLIPKART&srno=s_2_27&otracker=search&otracker1=search&fm=organic&iid=03925946-2460-4401-8252-fc19238e9538.MOBE9VZBPVEGZC6X.SEARCH&ssid=h12kr46jps0000001609864266321&qH=3910b1e0ccab19bc', 'Samsung Guru Music 2 SM-B310E'], 'MOBEA4FVFGGE9VTW': ['https://www.flipkart.com/samsung-guru-fm-plus/p/itmevt7vgvhzyfdh?pid=MOBEA4FVFGGE9VTW&lid=LSTMOBEA4FVFGGE9VTWHXHNB2&marketplace=FLIPKART&srno=s_1_23&otracker=search&otracker1=search&fm=organic&iid=178318d8-a764-4a66-b162-fa214488c0b7.MOBEA4FVFGGE9VTW.SEARCH&ssid=ae0serh8v40000001609864264406&qH=3910b1e0ccab19bc', 'Samsung Guru FM Plus', 'https://www.flipkart.com/samsung-guru-fm-plus/p/itmevt7vgvhzyfdh?pid=MOBEA4FVFGGE9VTW&lid=LSTMOBEA4FVFGGE9VTWHXHNB2&marketplace=FLIPKART&srno=s_2_41&otracker=search&otracker1=search&fm=organic&iid=03925946-2460-4401-8252-fc19238e9538.MOBEA4FVFGGE9VTW.SEARCH&ssid=h12kr46jps0000001609864266321&qH=3910b1e0ccab19bc', 'Samsung Guru FM Plus'], 'MOBFRZZHMHQVNDFA': ['https://www.flipkart.com/samsung-galaxy-m01-blue-32-gb/p/itmc068b26305a0d?pid=MOBFRZZHMHQVNDFA&lid=LSTMOBFRZZHMHQVNDFAWNCLDM&marketplace=FLIPKART&srno=s_1_24&otracker=search&otracker1=search&fm=organic&iid=178318d8-a764-4a66-b162-fa214488c0b7.MOBFRZZHMHQVNDFA.SEARCH&ssid=ae0serh8v40000001609864264406&qH=3910b1e0ccab19bc', 'Samsung Galaxy M01 (Blue, 32 GB)', 'https://www.flipkart.com/samsung-galaxy-m01-blue-32-gb/p/itmc068b26305a0d?pid=MOBFRZZHMHQVNDFA&lid=LSTMOBFRZZHMHQVNDFAWNCLDM&marketplace=FLIPKART&srno=s_2_28&otracker=search&otracker1=search&fm=organic&iid=03925946-2460-4401-8252-fc19238e9538.MOBFRZZHMHQVNDFA.SEARCH&ssid=h12kr46jps0000001609864266321&qH=3910b1e0ccab19bc', 'Samsung Galaxy M01 (Blue, 32 GB)'], 'MOBFRZZHH4WHKZCW': ['https://www.flipkart.com/samsung-galaxy-a31-prism-crush-blue-128-gb/p/itmca37dc47f1c6a?pid=MOBFRZZHH4WHKZCW&lid=LSTMOBFRZZHH4WHKZCWSOSBOT&marketplace=FLIPKART&srno=s_2_26&otracker=search&otracker1=search&fm=organic&iid=03925946-2460-4401-8252-fc19238e9538.MOBFRZZHH4WHKZCW.SEARCH&ssid=h12kr46jps0000001609864266321&qH=3910b1e0ccab19bc', 'Samsung Galaxy A31 (Prism Crush Blue, 128 GB)'], 'MOBFRZZHFMBJC4A6': ['https://www.flipkart.com/samsung-galaxy-a31-prism-crush-white-128-gb/p/itma110137399bdc?pid=MOBFRZZHFMBJC4A6&lid=LSTMOBFRZZHFMBJC4A67RUS3Y&marketplace=FLIPKART&srno=s_2_29&otracker=search&otracker1=search&fm=organic&iid=03925946-2460-4401-8252-fc19238e9538.MOBFRZZHFMBJC4A6.SEARCH&ssid=h12kr46jps0000001609864266321&qH=3910b1e0ccab19bc', 'Samsung Galaxy A31 (Prism Crush White, 128 GB)'], 'MOBFRZZHZTY3GHCY': ['https://www.flipkart.com/samsung-galaxy-m11-violet-64-gb/p/itmb748a6ba4c6d9?pid=MOBFRZZHZTY3GHCY&lid=LSTMOBFRZZHZTY3GHCYAWUNZH&marketplace=FLIPKART&srno=s_2_30&otracker=search&otracker1=search&fm=organic&iid=03925946-2460-4401-8252-fc19238e9538.MOBFRZZHZTY3GHCY.SEARCH&ssid=h12kr46jps0000001609864266321&qH=3910b1e0ccab19bc', 'Samsung Galaxy M11 (Violet, 64 GB)'], 'MOBEA9SJWSGMFVPP': ['https://www.flipkart.com/samsung-guru-fm-plus-sm-b110e-d/p/itmew8srgqg73y6p?pid=MOBEA9SJWSGMFVPP&lid=LSTMOBEA9SJWSGMFVPPUULX3M&marketplace=FLIPKART&srno=s_2_31&otracker=search&otracker1=search&fm=organic&iid=03925946-2460-4401-8252-fc19238e9538.MOBEA9SJWSGMFVPP.SEARCH&ssid=h12kr46jps0000001609864266321&qH=3910b1e0ccab19bc', 'Samsung Guru FM Plus SM-B110E/D'], 'MOBFK4REY2CUGAG7': ['https://www.flipkart.com/samsung-galaxy-a50s-prism-crush-black-128-gb/p/itm31b19a153195b?pid=MOBFK4REY2CUGAG7&lid=LSTMOBFK4REY2CUGAG76S22LA&marketplace=FLIPKART&srno=s_2_32&otracker=search&otracker1=search&fm=organic&iid=03925946-2460-4401-8252-fc19238e9538.MOBFK4REY2CUGAG7.SEARCH&ssid=h12kr46jps0000001609864266321&qH=3910b1e0ccab19bc', 'Samsung Galaxy A50s (Prism Crush Black, 128 GB)'], 'MOBE9Q93JDZNTEEA': ['https://www.flipkart.com/samsung-guru-fm-plus/p/itme9q93vhymngzj?pid=MOBE9Q93JDZNTEEA&lid=LSTMOBE9Q93JDZNTEEAXEPRJU&marketplace=FLIPKART&srno=s_2_33&otracker=search&otracker1=search&fm=organic&iid=03925946-2460-4401-8252-fc19238e9538.MOBE9Q93JDZNTEEA.SEARCH&ssid=h12kr46jps0000001609864266321&qH=3910b1e0ccab19bc', 'Samsung Guru FM Plus'], 'MOBFK4REFQTCSVNA': ['https://www.flipkart.com/samsung-galaxy-a50s-prism-crush-white-128-gb/p/itmed3b8b449ec8d?pid=MOBFK4REFQTCSVNA&lid=LSTMOBFK4REFQTCSVNARKTPWM&marketplace=FLIPKART&srno=s_2_34&otracker=search&otracker1=search&fm=organic&iid=03925946-2460-4401-8252-fc19238e9538.MOBFK4REFQTCSVNA.SEARCH&ssid=h12kr46jps0000001609864266321&qH=3910b1e0ccab19bc', 'Samsung Galaxy A50s (Prism Crush White, 128 GB)'], 'MOBFU897FS2HKWFE': ['https://www.flipkart.com/samsung-galaxy-m01s-light-blue-32-gb/p/itm165dd2039b184?pid=MOBFU897FS2HKWFE&lid=LSTMOBFU897FS2HKWFEEBIN1G&marketplace=FLIPKART&srno=s_2_35&otracker=search&otracker1=search&fm=organic&iid=03925946-2460-4401-8252-fc19238e9538.MOBFU897FS2HKWFE.SEARCH&ssid=h12kr46jps0000001609864266321&qH=3910b1e0ccab19bc', 'Samsung Galaxy M01s\\xa0 (Light Blue, 32 GB)'], 'MOBFK4REEVWGFXES': ['https://www.flipkart.com/samsung-galaxy-a50s-prism-crush-violet-128-gb/p/itme505f5f410d1c?pid=MOBFK4REEVWGFXES&lid=LSTMOBFK4REEVWGFXESZFPNCV&marketplace=FLIPKART&srno=s_2_36&otracker=search&otracker1=search&fm=organic&iid=03925946-2460-4401-8252-fc19238e9538.MOBFK4REEVWGFXES.SEARCH&ssid=h12kr46jps0000001609864266321&qH=3910b1e0ccab19bc', 'Samsung Galaxy A50s (Prism Crush Violet, 128 GB)'], 'MOBFUG5ZAXZNGGZN': ['https://www.flipkart.com/samsung-galaxy-m01s-gray-32-gb/p/itm4c2b9eb29cf24?pid=MOBFUG5ZAXZNGGZN&lid=LSTMOBFUG5ZAXZNGGZNXDUB8Z&marketplace=FLIPKART&srno=s_2_37&otracker=search&otracker1=search&fm=organic&iid=03925946-2460-4401-8252-fc19238e9538.MOBFUG5ZAXZNGGZN.SEARCH&ssid=h12kr46jps0000001609864266321&qH=3910b1e0ccab19bc', 'Samsung Galaxy M01s (Gray, 32 GB)'], 'MOBFYZ8Y9VJNACEM': ['https://www.flipkart.com/samsung-galaxy-m31-ice-berg-blue-128-gb/p/itmed6043337ac0e?pid=MOBFYZ8Y9VJNACEM&lid=LSTMOBFYZ8Y9VJNACEMCIENNZ&marketplace=FLIPKART&srno=s_2_38&otracker=search&otracker1=search&fm=organic&iid=03925946-2460-4401-8252-fc19238e9538.MOBFYZ8Y9VJNACEM.SEARCH&ssid=h12kr46jps0000001609864266321&qH=3910b1e0ccab19bc', 'Samsung Galaxy M31 (Ice Berg Blue, 128 GB)'], 'MOBFX3JN2QA3RYZE': ['https://www.flipkart.com/samsung-galaxy-m51-celestial-black-128-gb/p/itm0cd0b1f924a21?pid=MOBFX3JN2QA3RYZE&lid=LSTMOBFX3JN2QA3RYZEIUVJFC&marketplace=FLIPKART&srno=s_2_39&otracker=search&otracker1=search&fm=organic&iid=03925946-2460-4401-8252-fc19238e9538.MOBFX3JN2QA3RYZE.SEARCH&ssid=h12kr46jps0000001609864266321&qH=3910b1e0ccab19bc', 'Samsung Galaxy M51 (Celestial Black, 128 GB)'], 'MOBE996SKVGGH94Q': ['https://www.flipkart.com/samsung-guru-fm-plus-sm-b110e-d/p/itmf4w45bqfdfnef?pid=MOBE996SKVGGH94Q&lid=LSTMOBE996SKVGGH94QTOI285&marketplace=FLIPKART&srno=s_2_40&otracker=search&otracker1=search&fm=organic&iid=03925946-2460-4401-8252-fc19238e9538.MOBE996SKVGGH94Q.SEARCH&ssid=h12kr46jps0000001609864266321&qH=3910b1e0ccab19bc', 'Samsung Guru FM Plus SM-B110E/D'], 'MOBFSFMJZVFVNDAG': ['https://www.flipkart.com/samsung-galaxy-a21s-black-64-gb/p/itme5f657d8935df?pid=MOBFSFMJZVFVNDAG&lid=LSTMOBFSFMJZVFVNDAGCQVA7S&marketplace=FLIPKART&srno=s_2_42&otracker=search&otracker1=search&fm=organic&iid=03925946-2460-4401-8252-fc19238e9538.MOBFSFMJZVFVNDAG.SEARCH&ssid=h12kr46jps0000001609864266321&qH=3910b1e0ccab19bc', 'Samsung Galaxy A21s (Black, 64 GB)'], 'MOBFPNPSZWQ7YKGH': ['https://www.flipkart.com/samsung-galaxy-m31-space-black-64-gb/p/itme0c5a25c1e64a?pid=MOBFPNPSZWQ7YKGH&lid=LSTMOBFPNPSZWQ7YKGHJVDEYX&marketplace=FLIPKART&srno=s_2_43&otracker=search&otracker1=search&fm=organic&iid=03925946-2460-4401-8252-fc19238e9538.MOBFPNPSZWQ7YKGH.SEARCH&ssid=h12kr46jps0000001609864266321&qH=3910b1e0ccab19bc', 'Samsung Galaxy M31 (Space Black, 64 GB)'], 'MOBFRZZHHUZTTYCZ': ['https://www.flipkart.com/samsung-galaxy-m11-metallic-blue-32-gb/p/itme875f568bb05b?pid=MOBFRZZHHUZTTYCZ&lid=LSTMOBFRZZHHUZTTYCZZGXOIC&marketplace=FLIPKART&srno=s_2_44&otracker=search&otracker1=search&fm=organic&iid=03925946-2460-4401-8252-fc19238e9538.MOBFRZZHHUZTTYCZ.SEARCH&ssid=h12kr46jps0000001609864266321&qH=3910b1e0ccab19bc', 'Samsung Galaxy M11 (Metallic Blue, 32 GB)'], 'MOBFUAEBY34F3GYV': ['https://www.flipkart.com/samsung-m01-core-blue-32-gb/p/itm4af92173df3c8?pid=MOBFUAEBY34F3GYV&lid=LSTMOBFUAEBY34F3GYVUBVNON&marketplace=FLIPKART&srno=s_2_45&otracker=search&otracker1=search&fm=organic&iid=03925946-2460-4401-8252-fc19238e9538.MOBFUAEBY34F3GYV.SEARCH&ssid=h12kr46jps0000001609864266321&qH=3910b1e0ccab19bc', 'Samsung M01 core (Blue, 32 GB)'], 'MOBEAYYGAZZTGAUK': ['https://www.flipkart.com/samsung-guru-fm-plus-sm-b110e-d/p/itmeayygvzdgac68?pid=MOBEAYYGAZZTGAUK&lid=LSTMOBEAYYGAZZTGAUKMXYUGX&marketplace=FLIPKART&srno=s_2_46&otracker=search&otracker1=search&fm=organic&iid=03925946-2460-4401-8252-fc19238e9538.MOBEAYYGAZZTGAUK.SEARCH&ssid=h12kr46jps0000001609864266321&qH=3910b1e0ccab19bc', 'Samsung Guru FM Plus SM-B110E/D'], 'MOBFSFMJKQPBWJFB': ['https://www.flipkart.com/samsung-galaxy-a21s-white-64-gb/p/itm7c9ebb90b5080?pid=MOBFSFMJKQPBWJFB&lid=LSTMOBFSFMJKQPBWJFBBNW6ZF&marketplace=FLIPKART&srno=s_2_47&otracker=search&otracker1=search&fm=organic&iid=03925946-2460-4401-8252-fc19238e9538.MOBFSFMJKQPBWJFB.SEARCH&ssid=h12kr46jps0000001609864266321&qH=3910b1e0ccab19bc', 'Samsung Galaxy A21s (White, 64 GB)'], 'MOBFGREWXSH4CMD8': ['https://www.flipkart.com/samsung-galaxy-m40-midnight-blue-128-gb/p/itm24fee3825fd06?pid=MOBFGREWXSH4CMD8&lid=LSTMOBFGREWXSH4CMD8UYBKX8&marketplace=FLIPKART&srno=s_2_48&otracker=search&otracker1=search&fm=organic&iid=03925946-2460-4401-8252-fc19238e9538.MOBFGREWXSH4CMD8.SEARCH&ssid=h12kr46jps0000001609864266321&qH=3910b1e0ccab19bc', 'Samsung Galaxy M40 (Midnight Blue, 128 GB)']})\n"
          ],
          "name": "stdout"
        }
      ]
    },
    {
      "cell_type": "code",
      "metadata": {
        "colab": {
          "base_uri": "https://localhost:8080/",
          "height": 496
        },
        "id": "TT1ttPQlk3Y4",
        "outputId": "1e09b7cd-f79c-483b-b318-b3d4b38bfdcc"
      },
      "source": [
        "more_data = defaultdict(list)\r\n",
        "for key, value in data.items():\r\n",
        "    rating, review, price = None, None, None\r\n",
        "    curr_page = requests.get(value[0])\r\n",
        "    fetching_page = BeautifulSoup(curr_page.content)\r\n",
        "    text = fetching_page.find(\"span\", attrs={'class': \"_2_R_DZ\"})\r\n",
        "    try:\r\n",
        "        rating = text.text.split(\" \")[0]\r\n",
        "        reviews = text.text.split(\" \")[1]\r\n",
        "    except:\r\n",
        "        print(value[0])\r\n",
        "        continue\r\n",
        "    if rating == None or reviews == None:\r\n",
        "        continue\r\n",
        "    try:\r\n",
        "        price = fetching_page.find(\"div\", attrs={'class': \"_30jeq3 _16Jk6d\"}).text\r\n",
        "    except:\r\n",
        "        continue\r\n",
        "    if price == None:\r\n",
        "        continue\r\n",
        "    \r\n",
        "    \"https://www.flipkart.com/{0}/product-reviews/itmcdc5e93b44d55?pid=MOBFV5PWHRYTYYJF&lid=LSTMOBFV5PWHRYTYYJFLE0GZO&marketplace=FLIPKART&page=1\".format(value[0].split(\"/\")[3])\r\n",
        "    print(value)"
      ],
      "execution_count": null,
      "outputs": [
        {
          "output_type": "stream",
          "text": [
            "['https:', '', 'www.flipkart.com', 'samsung-galaxy-f41-fusion-blue-64-gb', 'p', 'itmcdc5e93b44d55?pid=MOBFV5PWHRYTYYJF&lid=LSTMOBFV5PWHRYTYYJFLE0GZO&marketplace=FLIPKART&srno=s_1_1&otracker=search&otracker1=search&fm=organic&iid=178318d8-a764-4a66-b162-fa214488c0b7.MOBFV5PWHRYTYYJF.SEARCH&ssid=ae0serh8v40000001609864264406&qH=3910b1e0ccab19bc']\n",
            "['https://www.flipkart.com/samsung-galaxy-f41-fusion-blue-64-gb/p/itmcdc5e93b44d55?pid=MOBFV5PWHRYTYYJF&lid=LSTMOBFV5PWHRYTYYJFLE0GZO&marketplace=FLIPKART&srno=s_1_1&otracker=search&otracker1=search&fm=organic&iid=178318d8-a764-4a66-b162-fa214488c0b7.MOBFV5PWHRYTYYJF.SEARCH&ssid=ae0serh8v40000001609864264406&qH=3910b1e0ccab19bc', 'Samsung Galaxy F41 (Fusion Blue, 64 GB)']\n",
            "['https:', '', 'www.flipkart.com', 'samsung-galaxy-f41-fusion-black-128-gb', 'p', 'itme88b8042fe996?pid=MOBFV5PWUHRY2MZZ&lid=LSTMOBFV5PWUHRY2MZZXXFGKQ&marketplace=FLIPKART&srno=s_1_2&otracker=search&otracker1=search&fm=organic&iid=178318d8-a764-4a66-b162-fa214488c0b7.MOBFV5PWUHRY2MZZ.SEARCH&ssid=ae0serh8v40000001609864264406&qH=3910b1e0ccab19bc']\n",
            "['https://www.flipkart.com/samsung-galaxy-f41-fusion-black-128-gb/p/itme88b8042fe996?pid=MOBFV5PWUHRY2MZZ&lid=LSTMOBFV5PWUHRY2MZZXXFGKQ&marketplace=FLIPKART&srno=s_1_2&otracker=search&otracker1=search&fm=organic&iid=178318d8-a764-4a66-b162-fa214488c0b7.MOBFV5PWUHRY2MZZ.SEARCH&ssid=ae0serh8v40000001609864264406&qH=3910b1e0ccab19bc', 'Samsung Galaxy F41 (Fusion Black, 128 GB)']\n"
          ],
          "name": "stdout"
        },
        {
          "output_type": "error",
          "ename": "KeyboardInterrupt",
          "evalue": "ignored",
          "traceback": [
            "\u001b[0;31m---------------------------------------------------------------------------\u001b[0m",
            "\u001b[0;31mKeyboardInterrupt\u001b[0m                         Traceback (most recent call last)",
            "\u001b[0;32m<ipython-input-48-3095f14e53cb>\u001b[0m in \u001b[0;36m<module>\u001b[0;34m()\u001b[0m\n\u001b[1;32m      2\u001b[0m \u001b[0;32mfor\u001b[0m \u001b[0mkey\u001b[0m\u001b[0;34m,\u001b[0m \u001b[0mvalue\u001b[0m \u001b[0;32min\u001b[0m \u001b[0mdata\u001b[0m\u001b[0;34m.\u001b[0m\u001b[0mitems\u001b[0m\u001b[0;34m(\u001b[0m\u001b[0;34m)\u001b[0m\u001b[0;34m:\u001b[0m\u001b[0;34m\u001b[0m\u001b[0;34m\u001b[0m\u001b[0m\n\u001b[1;32m      3\u001b[0m     \u001b[0mrating\u001b[0m\u001b[0;34m,\u001b[0m \u001b[0mreview\u001b[0m\u001b[0;34m,\u001b[0m \u001b[0mprice\u001b[0m \u001b[0;34m=\u001b[0m \u001b[0;32mNone\u001b[0m\u001b[0;34m,\u001b[0m \u001b[0;32mNone\u001b[0m\u001b[0;34m,\u001b[0m \u001b[0;32mNone\u001b[0m\u001b[0;34m\u001b[0m\u001b[0;34m\u001b[0m\u001b[0m\n\u001b[0;32m----> 4\u001b[0;31m     \u001b[0mcurr_page\u001b[0m \u001b[0;34m=\u001b[0m \u001b[0mrequests\u001b[0m\u001b[0;34m.\u001b[0m\u001b[0mget\u001b[0m\u001b[0;34m(\u001b[0m\u001b[0mvalue\u001b[0m\u001b[0;34m[\u001b[0m\u001b[0;36m0\u001b[0m\u001b[0;34m]\u001b[0m\u001b[0;34m)\u001b[0m\u001b[0;34m\u001b[0m\u001b[0;34m\u001b[0m\u001b[0m\n\u001b[0m\u001b[1;32m      5\u001b[0m     \u001b[0mfetching_page\u001b[0m \u001b[0;34m=\u001b[0m \u001b[0mBeautifulSoup\u001b[0m\u001b[0;34m(\u001b[0m\u001b[0mcurr_page\u001b[0m\u001b[0;34m.\u001b[0m\u001b[0mcontent\u001b[0m\u001b[0;34m)\u001b[0m\u001b[0;34m\u001b[0m\u001b[0;34m\u001b[0m\u001b[0m\n\u001b[1;32m      6\u001b[0m     \u001b[0mtext\u001b[0m \u001b[0;34m=\u001b[0m \u001b[0mfetching_page\u001b[0m\u001b[0;34m.\u001b[0m\u001b[0mfind\u001b[0m\u001b[0;34m(\u001b[0m\u001b[0;34m\"span\"\u001b[0m\u001b[0;34m,\u001b[0m \u001b[0mattrs\u001b[0m\u001b[0;34m=\u001b[0m\u001b[0;34m{\u001b[0m\u001b[0;34m'class'\u001b[0m\u001b[0;34m:\u001b[0m \u001b[0;34m\"_2_R_DZ\"\u001b[0m\u001b[0;34m}\u001b[0m\u001b[0;34m)\u001b[0m\u001b[0;34m\u001b[0m\u001b[0;34m\u001b[0m\u001b[0m\n",
            "\u001b[0;32m/usr/local/lib/python3.6/dist-packages/requests/api.py\u001b[0m in \u001b[0;36mget\u001b[0;34m(url, params, **kwargs)\u001b[0m\n\u001b[1;32m     74\u001b[0m \u001b[0;34m\u001b[0m\u001b[0m\n\u001b[1;32m     75\u001b[0m     \u001b[0mkwargs\u001b[0m\u001b[0;34m.\u001b[0m\u001b[0msetdefault\u001b[0m\u001b[0;34m(\u001b[0m\u001b[0;34m'allow_redirects'\u001b[0m\u001b[0;34m,\u001b[0m \u001b[0;32mTrue\u001b[0m\u001b[0;34m)\u001b[0m\u001b[0;34m\u001b[0m\u001b[0;34m\u001b[0m\u001b[0m\n\u001b[0;32m---> 76\u001b[0;31m     \u001b[0;32mreturn\u001b[0m \u001b[0mrequest\u001b[0m\u001b[0;34m(\u001b[0m\u001b[0;34m'get'\u001b[0m\u001b[0;34m,\u001b[0m \u001b[0murl\u001b[0m\u001b[0;34m,\u001b[0m \u001b[0mparams\u001b[0m\u001b[0;34m=\u001b[0m\u001b[0mparams\u001b[0m\u001b[0;34m,\u001b[0m \u001b[0;34m**\u001b[0m\u001b[0mkwargs\u001b[0m\u001b[0;34m)\u001b[0m\u001b[0;34m\u001b[0m\u001b[0;34m\u001b[0m\u001b[0m\n\u001b[0m\u001b[1;32m     77\u001b[0m \u001b[0;34m\u001b[0m\u001b[0m\n\u001b[1;32m     78\u001b[0m \u001b[0;34m\u001b[0m\u001b[0m\n",
            "\u001b[0;32m/usr/local/lib/python3.6/dist-packages/requests/api.py\u001b[0m in \u001b[0;36mrequest\u001b[0;34m(method, url, **kwargs)\u001b[0m\n\u001b[1;32m     59\u001b[0m     \u001b[0;31m# cases, and look like a memory leak in others.\u001b[0m\u001b[0;34m\u001b[0m\u001b[0;34m\u001b[0m\u001b[0;34m\u001b[0m\u001b[0m\n\u001b[1;32m     60\u001b[0m     \u001b[0;32mwith\u001b[0m \u001b[0msessions\u001b[0m\u001b[0;34m.\u001b[0m\u001b[0mSession\u001b[0m\u001b[0;34m(\u001b[0m\u001b[0;34m)\u001b[0m \u001b[0;32mas\u001b[0m \u001b[0msession\u001b[0m\u001b[0;34m:\u001b[0m\u001b[0;34m\u001b[0m\u001b[0;34m\u001b[0m\u001b[0m\n\u001b[0;32m---> 61\u001b[0;31m         \u001b[0;32mreturn\u001b[0m \u001b[0msession\u001b[0m\u001b[0;34m.\u001b[0m\u001b[0mrequest\u001b[0m\u001b[0;34m(\u001b[0m\u001b[0mmethod\u001b[0m\u001b[0;34m=\u001b[0m\u001b[0mmethod\u001b[0m\u001b[0;34m,\u001b[0m \u001b[0murl\u001b[0m\u001b[0;34m=\u001b[0m\u001b[0murl\u001b[0m\u001b[0;34m,\u001b[0m \u001b[0;34m**\u001b[0m\u001b[0mkwargs\u001b[0m\u001b[0;34m)\u001b[0m\u001b[0;34m\u001b[0m\u001b[0;34m\u001b[0m\u001b[0m\n\u001b[0m\u001b[1;32m     62\u001b[0m \u001b[0;34m\u001b[0m\u001b[0m\n\u001b[1;32m     63\u001b[0m \u001b[0;34m\u001b[0m\u001b[0m\n",
            "\u001b[0;32m/usr/local/lib/python3.6/dist-packages/requests/sessions.py\u001b[0m in \u001b[0;36mrequest\u001b[0;34m(self, method, url, params, data, headers, cookies, files, auth, timeout, allow_redirects, proxies, hooks, stream, verify, cert, json)\u001b[0m\n\u001b[1;32m    528\u001b[0m         }\n\u001b[1;32m    529\u001b[0m         \u001b[0msend_kwargs\u001b[0m\u001b[0;34m.\u001b[0m\u001b[0mupdate\u001b[0m\u001b[0;34m(\u001b[0m\u001b[0msettings\u001b[0m\u001b[0;34m)\u001b[0m\u001b[0;34m\u001b[0m\u001b[0;34m\u001b[0m\u001b[0m\n\u001b[0;32m--> 530\u001b[0;31m         \u001b[0mresp\u001b[0m \u001b[0;34m=\u001b[0m \u001b[0mself\u001b[0m\u001b[0;34m.\u001b[0m\u001b[0msend\u001b[0m\u001b[0;34m(\u001b[0m\u001b[0mprep\u001b[0m\u001b[0;34m,\u001b[0m \u001b[0;34m**\u001b[0m\u001b[0msend_kwargs\u001b[0m\u001b[0;34m)\u001b[0m\u001b[0;34m\u001b[0m\u001b[0;34m\u001b[0m\u001b[0m\n\u001b[0m\u001b[1;32m    531\u001b[0m \u001b[0;34m\u001b[0m\u001b[0m\n\u001b[1;32m    532\u001b[0m         \u001b[0;32mreturn\u001b[0m \u001b[0mresp\u001b[0m\u001b[0;34m\u001b[0m\u001b[0;34m\u001b[0m\u001b[0m\n",
            "\u001b[0;32m/usr/local/lib/python3.6/dist-packages/requests/sessions.py\u001b[0m in \u001b[0;36msend\u001b[0;34m(self, request, **kwargs)\u001b[0m\n\u001b[1;32m    681\u001b[0m \u001b[0;34m\u001b[0m\u001b[0m\n\u001b[1;32m    682\u001b[0m         \u001b[0;32mif\u001b[0m \u001b[0;32mnot\u001b[0m \u001b[0mstream\u001b[0m\u001b[0;34m:\u001b[0m\u001b[0;34m\u001b[0m\u001b[0;34m\u001b[0m\u001b[0m\n\u001b[0;32m--> 683\u001b[0;31m             \u001b[0mr\u001b[0m\u001b[0;34m.\u001b[0m\u001b[0mcontent\u001b[0m\u001b[0;34m\u001b[0m\u001b[0;34m\u001b[0m\u001b[0m\n\u001b[0m\u001b[1;32m    684\u001b[0m \u001b[0;34m\u001b[0m\u001b[0m\n\u001b[1;32m    685\u001b[0m         \u001b[0;32mreturn\u001b[0m \u001b[0mr\u001b[0m\u001b[0;34m\u001b[0m\u001b[0;34m\u001b[0m\u001b[0m\n",
            "\u001b[0;32m/usr/local/lib/python3.6/dist-packages/requests/models.py\u001b[0m in \u001b[0;36mcontent\u001b[0;34m(self)\u001b[0m\n\u001b[1;32m    827\u001b[0m                 \u001b[0mself\u001b[0m\u001b[0;34m.\u001b[0m\u001b[0m_content\u001b[0m \u001b[0;34m=\u001b[0m \u001b[0;32mNone\u001b[0m\u001b[0;34m\u001b[0m\u001b[0;34m\u001b[0m\u001b[0m\n\u001b[1;32m    828\u001b[0m             \u001b[0;32melse\u001b[0m\u001b[0;34m:\u001b[0m\u001b[0;34m\u001b[0m\u001b[0;34m\u001b[0m\u001b[0m\n\u001b[0;32m--> 829\u001b[0;31m                 \u001b[0mself\u001b[0m\u001b[0;34m.\u001b[0m\u001b[0m_content\u001b[0m \u001b[0;34m=\u001b[0m \u001b[0;34mb''\u001b[0m\u001b[0;34m.\u001b[0m\u001b[0mjoin\u001b[0m\u001b[0;34m(\u001b[0m\u001b[0mself\u001b[0m\u001b[0;34m.\u001b[0m\u001b[0miter_content\u001b[0m\u001b[0;34m(\u001b[0m\u001b[0mCONTENT_CHUNK_SIZE\u001b[0m\u001b[0;34m)\u001b[0m\u001b[0;34m)\u001b[0m \u001b[0;32mor\u001b[0m \u001b[0;34mb''\u001b[0m\u001b[0;34m\u001b[0m\u001b[0;34m\u001b[0m\u001b[0m\n\u001b[0m\u001b[1;32m    830\u001b[0m \u001b[0;34m\u001b[0m\u001b[0m\n\u001b[1;32m    831\u001b[0m         \u001b[0mself\u001b[0m\u001b[0;34m.\u001b[0m\u001b[0m_content_consumed\u001b[0m \u001b[0;34m=\u001b[0m \u001b[0;32mTrue\u001b[0m\u001b[0;34m\u001b[0m\u001b[0;34m\u001b[0m\u001b[0m\n",
            "\u001b[0;32m/usr/local/lib/python3.6/dist-packages/requests/models.py\u001b[0m in \u001b[0;36mgenerate\u001b[0;34m()\u001b[0m\n\u001b[1;32m    749\u001b[0m             \u001b[0;32mif\u001b[0m \u001b[0mhasattr\u001b[0m\u001b[0;34m(\u001b[0m\u001b[0mself\u001b[0m\u001b[0;34m.\u001b[0m\u001b[0mraw\u001b[0m\u001b[0;34m,\u001b[0m \u001b[0;34m'stream'\u001b[0m\u001b[0;34m)\u001b[0m\u001b[0;34m:\u001b[0m\u001b[0;34m\u001b[0m\u001b[0;34m\u001b[0m\u001b[0m\n\u001b[1;32m    750\u001b[0m                 \u001b[0;32mtry\u001b[0m\u001b[0;34m:\u001b[0m\u001b[0;34m\u001b[0m\u001b[0;34m\u001b[0m\u001b[0m\n\u001b[0;32m--> 751\u001b[0;31m                     \u001b[0;32mfor\u001b[0m \u001b[0mchunk\u001b[0m \u001b[0;32min\u001b[0m \u001b[0mself\u001b[0m\u001b[0;34m.\u001b[0m\u001b[0mraw\u001b[0m\u001b[0;34m.\u001b[0m\u001b[0mstream\u001b[0m\u001b[0;34m(\u001b[0m\u001b[0mchunk_size\u001b[0m\u001b[0;34m,\u001b[0m \u001b[0mdecode_content\u001b[0m\u001b[0;34m=\u001b[0m\u001b[0;32mTrue\u001b[0m\u001b[0;34m)\u001b[0m\u001b[0;34m:\u001b[0m\u001b[0;34m\u001b[0m\u001b[0;34m\u001b[0m\u001b[0m\n\u001b[0m\u001b[1;32m    752\u001b[0m                         \u001b[0;32myield\u001b[0m \u001b[0mchunk\u001b[0m\u001b[0;34m\u001b[0m\u001b[0;34m\u001b[0m\u001b[0m\n\u001b[1;32m    753\u001b[0m                 \u001b[0;32mexcept\u001b[0m \u001b[0mProtocolError\u001b[0m \u001b[0;32mas\u001b[0m \u001b[0me\u001b[0m\u001b[0;34m:\u001b[0m\u001b[0;34m\u001b[0m\u001b[0;34m\u001b[0m\u001b[0m\n",
            "\u001b[0;32m/usr/local/lib/python3.6/dist-packages/urllib3/response.py\u001b[0m in \u001b[0;36mstream\u001b[0;34m(self, amt, decode_content)\u001b[0m\n\u001b[1;32m    490\u001b[0m         \"\"\"\n\u001b[1;32m    491\u001b[0m         \u001b[0;32mif\u001b[0m \u001b[0mself\u001b[0m\u001b[0;34m.\u001b[0m\u001b[0mchunked\u001b[0m \u001b[0;32mand\u001b[0m \u001b[0mself\u001b[0m\u001b[0;34m.\u001b[0m\u001b[0msupports_chunked_reads\u001b[0m\u001b[0;34m(\u001b[0m\u001b[0;34m)\u001b[0m\u001b[0;34m:\u001b[0m\u001b[0;34m\u001b[0m\u001b[0;34m\u001b[0m\u001b[0m\n\u001b[0;32m--> 492\u001b[0;31m             \u001b[0;32mfor\u001b[0m \u001b[0mline\u001b[0m \u001b[0;32min\u001b[0m \u001b[0mself\u001b[0m\u001b[0;34m.\u001b[0m\u001b[0mread_chunked\u001b[0m\u001b[0;34m(\u001b[0m\u001b[0mamt\u001b[0m\u001b[0;34m,\u001b[0m \u001b[0mdecode_content\u001b[0m\u001b[0;34m=\u001b[0m\u001b[0mdecode_content\u001b[0m\u001b[0;34m)\u001b[0m\u001b[0;34m:\u001b[0m\u001b[0;34m\u001b[0m\u001b[0;34m\u001b[0m\u001b[0m\n\u001b[0m\u001b[1;32m    493\u001b[0m                 \u001b[0;32myield\u001b[0m \u001b[0mline\u001b[0m\u001b[0;34m\u001b[0m\u001b[0;34m\u001b[0m\u001b[0m\n\u001b[1;32m    494\u001b[0m         \u001b[0;32melse\u001b[0m\u001b[0;34m:\u001b[0m\u001b[0;34m\u001b[0m\u001b[0;34m\u001b[0m\u001b[0m\n",
            "\u001b[0;32m/usr/local/lib/python3.6/dist-packages/urllib3/response.py\u001b[0m in \u001b[0;36mread_chunked\u001b[0;34m(self, amt, decode_content)\u001b[0m\n\u001b[1;32m    666\u001b[0m \u001b[0;34m\u001b[0m\u001b[0m\n\u001b[1;32m    667\u001b[0m             \u001b[0;32mwhile\u001b[0m \u001b[0;32mTrue\u001b[0m\u001b[0;34m:\u001b[0m\u001b[0;34m\u001b[0m\u001b[0;34m\u001b[0m\u001b[0m\n\u001b[0;32m--> 668\u001b[0;31m                 \u001b[0mself\u001b[0m\u001b[0;34m.\u001b[0m\u001b[0m_update_chunk_length\u001b[0m\u001b[0;34m(\u001b[0m\u001b[0;34m)\u001b[0m\u001b[0;34m\u001b[0m\u001b[0;34m\u001b[0m\u001b[0m\n\u001b[0m\u001b[1;32m    669\u001b[0m                 \u001b[0;32mif\u001b[0m \u001b[0mself\u001b[0m\u001b[0;34m.\u001b[0m\u001b[0mchunk_left\u001b[0m \u001b[0;34m==\u001b[0m \u001b[0;36m0\u001b[0m\u001b[0;34m:\u001b[0m\u001b[0;34m\u001b[0m\u001b[0;34m\u001b[0m\u001b[0m\n\u001b[1;32m    670\u001b[0m                     \u001b[0;32mbreak\u001b[0m\u001b[0;34m\u001b[0m\u001b[0;34m\u001b[0m\u001b[0m\n",
            "\u001b[0;32m/usr/local/lib/python3.6/dist-packages/urllib3/response.py\u001b[0m in \u001b[0;36m_update_chunk_length\u001b[0;34m(self)\u001b[0m\n\u001b[1;32m    598\u001b[0m         \u001b[0;32mif\u001b[0m \u001b[0mself\u001b[0m\u001b[0;34m.\u001b[0m\u001b[0mchunk_left\u001b[0m \u001b[0;32mis\u001b[0m \u001b[0;32mnot\u001b[0m \u001b[0;32mNone\u001b[0m\u001b[0;34m:\u001b[0m\u001b[0;34m\u001b[0m\u001b[0;34m\u001b[0m\u001b[0m\n\u001b[1;32m    599\u001b[0m             \u001b[0;32mreturn\u001b[0m\u001b[0;34m\u001b[0m\u001b[0;34m\u001b[0m\u001b[0m\n\u001b[0;32m--> 600\u001b[0;31m         \u001b[0mline\u001b[0m \u001b[0;34m=\u001b[0m \u001b[0mself\u001b[0m\u001b[0;34m.\u001b[0m\u001b[0m_fp\u001b[0m\u001b[0;34m.\u001b[0m\u001b[0mfp\u001b[0m\u001b[0;34m.\u001b[0m\u001b[0mreadline\u001b[0m\u001b[0;34m(\u001b[0m\u001b[0;34m)\u001b[0m\u001b[0;34m\u001b[0m\u001b[0;34m\u001b[0m\u001b[0m\n\u001b[0m\u001b[1;32m    601\u001b[0m         \u001b[0mline\u001b[0m \u001b[0;34m=\u001b[0m \u001b[0mline\u001b[0m\u001b[0;34m.\u001b[0m\u001b[0msplit\u001b[0m\u001b[0;34m(\u001b[0m\u001b[0;34mb';'\u001b[0m\u001b[0;34m,\u001b[0m \u001b[0;36m1\u001b[0m\u001b[0;34m)\u001b[0m\u001b[0;34m[\u001b[0m\u001b[0;36m0\u001b[0m\u001b[0;34m]\u001b[0m\u001b[0;34m\u001b[0m\u001b[0;34m\u001b[0m\u001b[0m\n\u001b[1;32m    602\u001b[0m         \u001b[0;32mtry\u001b[0m\u001b[0;34m:\u001b[0m\u001b[0;34m\u001b[0m\u001b[0;34m\u001b[0m\u001b[0m\n",
            "\u001b[0;32m/usr/lib/python3.6/socket.py\u001b[0m in \u001b[0;36mreadinto\u001b[0;34m(self, b)\u001b[0m\n\u001b[1;32m    584\u001b[0m         \u001b[0;32mwhile\u001b[0m \u001b[0;32mTrue\u001b[0m\u001b[0;34m:\u001b[0m\u001b[0;34m\u001b[0m\u001b[0;34m\u001b[0m\u001b[0m\n\u001b[1;32m    585\u001b[0m             \u001b[0;32mtry\u001b[0m\u001b[0;34m:\u001b[0m\u001b[0;34m\u001b[0m\u001b[0;34m\u001b[0m\u001b[0m\n\u001b[0;32m--> 586\u001b[0;31m                 \u001b[0;32mreturn\u001b[0m \u001b[0mself\u001b[0m\u001b[0;34m.\u001b[0m\u001b[0m_sock\u001b[0m\u001b[0;34m.\u001b[0m\u001b[0mrecv_into\u001b[0m\u001b[0;34m(\u001b[0m\u001b[0mb\u001b[0m\u001b[0;34m)\u001b[0m\u001b[0;34m\u001b[0m\u001b[0;34m\u001b[0m\u001b[0m\n\u001b[0m\u001b[1;32m    587\u001b[0m             \u001b[0;32mexcept\u001b[0m \u001b[0mtimeout\u001b[0m\u001b[0;34m:\u001b[0m\u001b[0;34m\u001b[0m\u001b[0;34m\u001b[0m\u001b[0m\n\u001b[1;32m    588\u001b[0m                 \u001b[0mself\u001b[0m\u001b[0;34m.\u001b[0m\u001b[0m_timeout_occurred\u001b[0m \u001b[0;34m=\u001b[0m \u001b[0;32mTrue\u001b[0m\u001b[0;34m\u001b[0m\u001b[0;34m\u001b[0m\u001b[0m\n",
            "\u001b[0;32m/usr/lib/python3.6/ssl.py\u001b[0m in \u001b[0;36mrecv_into\u001b[0;34m(self, buffer, nbytes, flags)\u001b[0m\n\u001b[1;32m   1010\u001b[0m                   \u001b[0;34m\"non-zero flags not allowed in calls to recv_into() on %s\"\u001b[0m \u001b[0;34m%\u001b[0m\u001b[0;34m\u001b[0m\u001b[0;34m\u001b[0m\u001b[0m\n\u001b[1;32m   1011\u001b[0m                   self.__class__)\n\u001b[0;32m-> 1012\u001b[0;31m             \u001b[0;32mreturn\u001b[0m \u001b[0mself\u001b[0m\u001b[0;34m.\u001b[0m\u001b[0mread\u001b[0m\u001b[0;34m(\u001b[0m\u001b[0mnbytes\u001b[0m\u001b[0;34m,\u001b[0m \u001b[0mbuffer\u001b[0m\u001b[0;34m)\u001b[0m\u001b[0;34m\u001b[0m\u001b[0;34m\u001b[0m\u001b[0m\n\u001b[0m\u001b[1;32m   1013\u001b[0m         \u001b[0;32melse\u001b[0m\u001b[0;34m:\u001b[0m\u001b[0;34m\u001b[0m\u001b[0;34m\u001b[0m\u001b[0m\n\u001b[1;32m   1014\u001b[0m             \u001b[0;32mreturn\u001b[0m \u001b[0msocket\u001b[0m\u001b[0;34m.\u001b[0m\u001b[0mrecv_into\u001b[0m\u001b[0;34m(\u001b[0m\u001b[0mself\u001b[0m\u001b[0;34m,\u001b[0m \u001b[0mbuffer\u001b[0m\u001b[0;34m,\u001b[0m \u001b[0mnbytes\u001b[0m\u001b[0;34m,\u001b[0m \u001b[0mflags\u001b[0m\u001b[0;34m)\u001b[0m\u001b[0;34m\u001b[0m\u001b[0;34m\u001b[0m\u001b[0m\n",
            "\u001b[0;32m/usr/lib/python3.6/ssl.py\u001b[0m in \u001b[0;36mread\u001b[0;34m(self, len, buffer)\u001b[0m\n\u001b[1;32m    872\u001b[0m             \u001b[0;32mraise\u001b[0m \u001b[0mValueError\u001b[0m\u001b[0;34m(\u001b[0m\u001b[0;34m\"Read on closed or unwrapped SSL socket.\"\u001b[0m\u001b[0;34m)\u001b[0m\u001b[0;34m\u001b[0m\u001b[0;34m\u001b[0m\u001b[0m\n\u001b[1;32m    873\u001b[0m         \u001b[0;32mtry\u001b[0m\u001b[0;34m:\u001b[0m\u001b[0;34m\u001b[0m\u001b[0;34m\u001b[0m\u001b[0m\n\u001b[0;32m--> 874\u001b[0;31m             \u001b[0;32mreturn\u001b[0m \u001b[0mself\u001b[0m\u001b[0;34m.\u001b[0m\u001b[0m_sslobj\u001b[0m\u001b[0;34m.\u001b[0m\u001b[0mread\u001b[0m\u001b[0;34m(\u001b[0m\u001b[0mlen\u001b[0m\u001b[0;34m,\u001b[0m \u001b[0mbuffer\u001b[0m\u001b[0;34m)\u001b[0m\u001b[0;34m\u001b[0m\u001b[0;34m\u001b[0m\u001b[0m\n\u001b[0m\u001b[1;32m    875\u001b[0m         \u001b[0;32mexcept\u001b[0m \u001b[0mSSLError\u001b[0m \u001b[0;32mas\u001b[0m \u001b[0mx\u001b[0m\u001b[0;34m:\u001b[0m\u001b[0;34m\u001b[0m\u001b[0;34m\u001b[0m\u001b[0m\n\u001b[1;32m    876\u001b[0m             \u001b[0;32mif\u001b[0m \u001b[0mx\u001b[0m\u001b[0;34m.\u001b[0m\u001b[0margs\u001b[0m\u001b[0;34m[\u001b[0m\u001b[0;36m0\u001b[0m\u001b[0;34m]\u001b[0m \u001b[0;34m==\u001b[0m \u001b[0mSSL_ERROR_EOF\u001b[0m \u001b[0;32mand\u001b[0m \u001b[0mself\u001b[0m\u001b[0;34m.\u001b[0m\u001b[0msuppress_ragged_eofs\u001b[0m\u001b[0;34m:\u001b[0m\u001b[0;34m\u001b[0m\u001b[0;34m\u001b[0m\u001b[0m\n",
            "\u001b[0;32m/usr/lib/python3.6/ssl.py\u001b[0m in \u001b[0;36mread\u001b[0;34m(self, len, buffer)\u001b[0m\n\u001b[1;32m    629\u001b[0m         \"\"\"\n\u001b[1;32m    630\u001b[0m         \u001b[0;32mif\u001b[0m \u001b[0mbuffer\u001b[0m \u001b[0;32mis\u001b[0m \u001b[0;32mnot\u001b[0m \u001b[0;32mNone\u001b[0m\u001b[0;34m:\u001b[0m\u001b[0;34m\u001b[0m\u001b[0;34m\u001b[0m\u001b[0m\n\u001b[0;32m--> 631\u001b[0;31m             \u001b[0mv\u001b[0m \u001b[0;34m=\u001b[0m \u001b[0mself\u001b[0m\u001b[0;34m.\u001b[0m\u001b[0m_sslobj\u001b[0m\u001b[0;34m.\u001b[0m\u001b[0mread\u001b[0m\u001b[0;34m(\u001b[0m\u001b[0mlen\u001b[0m\u001b[0;34m,\u001b[0m \u001b[0mbuffer\u001b[0m\u001b[0;34m)\u001b[0m\u001b[0;34m\u001b[0m\u001b[0;34m\u001b[0m\u001b[0m\n\u001b[0m\u001b[1;32m    632\u001b[0m         \u001b[0;32melse\u001b[0m\u001b[0;34m:\u001b[0m\u001b[0;34m\u001b[0m\u001b[0;34m\u001b[0m\u001b[0m\n\u001b[1;32m    633\u001b[0m             \u001b[0mv\u001b[0m \u001b[0;34m=\u001b[0m \u001b[0mself\u001b[0m\u001b[0;34m.\u001b[0m\u001b[0m_sslobj\u001b[0m\u001b[0;34m.\u001b[0m\u001b[0mread\u001b[0m\u001b[0;34m(\u001b[0m\u001b[0mlen\u001b[0m\u001b[0;34m)\u001b[0m\u001b[0;34m\u001b[0m\u001b[0;34m\u001b[0m\u001b[0m\n",
            "\u001b[0;31mKeyboardInterrupt\u001b[0m: "
          ]
        }
      ]
    },
    {
      "cell_type": "code",
      "metadata": {
        "id": "x3qCh8Lrm9qJ"
      },
      "source": [
        ""
      ],
      "execution_count": null,
      "outputs": []
    }
  ]
}